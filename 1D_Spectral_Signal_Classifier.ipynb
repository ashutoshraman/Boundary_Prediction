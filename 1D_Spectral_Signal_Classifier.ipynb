{
  "nbformat": 4,
  "nbformat_minor": 0,
  "metadata": {
    "colab": {
      "name": "1D_Spectral_Signal_Classifier.ipynb",
      "provenance": []
    },
    "kernelspec": {
      "name": "python3",
      "display_name": "Python 3"
    },
    "language_info": {
      "name": "python"
    },
    "accelerator": "GPU"
  },
  "cells": [
    {
      "cell_type": "markdown",
      "metadata": {
        "id": "-jY4EwzIvA2Y"
      },
      "source": [
        "3 Way classifier for Spectral Data that was recorded of 3 different colored pieces of paper. Some help from https://towardsdatascience.com/pytorch-tabular-multiclass-classification-9f8211a123ab and course notes/ lectures from BME 548: Machine Learning in Imaging at Duke University"
      ]
    },
    {
      "cell_type": "code",
      "metadata": {
        "colab": {
          "base_uri": "https://localhost:8080/"
        },
        "id": "QgD-8k7OjoYr",
        "outputId": "56842d9e-6617-4a4c-f559-651ec0ea242d"
      },
      "source": [
        "from zipfile import ZipFile\n",
        "file_name = '/content/Data_NNlearn.zip'\n",
        "\n",
        "with ZipFile(file_name, 'r') as zip:\n",
        "  zip.extractall()\n",
        "  print('Done')"
      ],
      "execution_count": null,
      "outputs": [
        {
          "output_type": "stream",
          "text": [
            "Done\n"
          ],
          "name": "stdout"
        }
      ]
    },
    {
      "cell_type": "code",
      "metadata": {
        "id": "6P6pmtSmLh6k"
      },
      "source": [
        "from glob import glob\n",
        "import numpy as np\n",
        "import matplotlib.pyplot as plt\n",
        "import torch\n",
        "import torch.nn as nn\n",
        "import pandas as pd\n",
        "import seaborn as sns\n",
        "\n",
        "\n",
        "import torch.optim as optim\n",
        "from torch.utils.data import Dataset, DataLoader, WeightedRandomSampler\n",
        "\n",
        "from sklearn.preprocessing import MinMaxScaler    \n",
        "from sklearn.model_selection import train_test_split\n",
        "from sklearn.metrics import confusion_matrix, classification_report"
      ],
      "execution_count": null,
      "outputs": []
    },
    {
      "cell_type": "code",
      "metadata": {
        "id": "LYCmc_i9SVhN"
      },
      "source": [
        "class NNlib():\n",
        "\n",
        "    def __init__(self):\n",
        "\n",
        "        \n",
        "        self.c1 = \"Data_NNlearn/class_1/\"\n",
        "        self.c2 = \"Data_NNlearn/class_2/\"\n",
        "        self.c3 = \"Data_NNlearn/class_3/\"\n",
        "\n",
        "        \n",
        "\n",
        "    def data_read(self):\n",
        "\n",
        "        folder1 = self.c1\n",
        "        folderinfor1 = glob(self.c1 + \"*.csv\")\n",
        "        # print(\"folderinfor = \", folderinfor1)\n",
        "  \n",
        "\n",
        "        folder2 = self.c2\n",
        "        folderinfor2 = glob(self.c2 + \"*.csv\")\n",
        "        # print(\"folderinfor = \", folderinfor2)\n",
        " \n",
        "        folder3 = self.c3\n",
        "        folderinfor3 = glob(self.c3 + \"*.csv\")\n",
        "        # print(\"folderinfor = \", folderinfor3)\n",
        "\n",
        "\n",
        "        ## Make list of folders, then loop through each folder and read csv and concatenate with previously read csv's\n",
        "        ## Take out leading column used to start array and transpose result to get (70, 3648) ndarray\n",
        "        ## Concatenate a vector of the class types for each data file (0, 1, 2) for ease of computation\n",
        "        all_data = [folderinfor1, folderinfor2, folderinfor3]\n",
        "        output_array = np.zeros((3648, 1))  \n",
        "        for class_type in all_data:\n",
        "            for file in class_type:\n",
        "              data = np.genfromtxt(str(file), delimiter=',', usecols=1)\n",
        "              data = np.reshape(data, (3648, 1))\n",
        "              output_array = np.concatenate((output_array, data), axis=1) \n",
        "        output_array = np.transpose(output_array[:, 1:])\n",
        "\n",
        "        class_vector = np.concatenate((np.zeros((len(folderinfor1), 1)), np.ones((len(folderinfor2), 1)), 2*np.ones((len(folderinfor3), 1))), axis=0)\n",
        "        output_array = np.concatenate((output_array, class_vector), axis=1)\n",
        "        # print(output_array.shape)\n",
        "        return output_array\n",
        "\n",
        "\n",
        "        # for i in folderinfor2:\n",
        "        #     idx_data = i\n",
        "        #     #print(idx_data)\n",
        "        #     data = np.genfromtxt(str(idx_data), delimiter=',', usecols=1)\n",
        "        #     print(type(data))\n",
        "        #     print(\"mean intensity = \", np.mean(data))\n",
        "        #     plt.plot(data)\n",
        "        #     plt.show()\n",
        "        #     break"
      ],
      "execution_count": null,
      "outputs": []
    },
    {
      "cell_type": "code",
      "metadata": {
        "colab": {
          "base_uri": "https://localhost:8080/"
        },
        "id": "bQHApPpbUq_f",
        "outputId": "d4dcba70-d29a-4776-f731-f3a225dcd0c8"
      },
      "source": [
        "files= NNlib()\n",
        "data_frame = files.data_read()\n",
        "x = data_frame[:, :-1]; y = data_frame[:, -1]  # may need to change y_data shape from (70, ) to (70, 1)\n",
        "print(y.shape)"
      ],
      "execution_count": null,
      "outputs": [
        {
          "output_type": "stream",
          "text": [
            "(70,)\n"
          ],
          "name": "stdout"
        }
      ]
    },
    {
      "cell_type": "code",
      "metadata": {
        "id": "9hh0vH92KiMu"
      },
      "source": [
        "# Split into train+val and test, stratify ensures classes have equal representation in train, val, test, since they are disproportionate\n",
        "X_trainval, X_test, y_trainval, y_test = train_test_split(x, y, test_size=0.2, stratify=y, random_state=69)\n",
        "\n",
        "# Split train into train-val\n",
        "X_train, X_val, y_train, y_val = train_test_split(X_trainval, y_trainval, test_size=0.1, stratify=y_trainval, random_state=21)"
      ],
      "execution_count": null,
      "outputs": []
    },
    {
      "cell_type": "code",
      "metadata": {
        "id": "x5sbGIOXLkgV"
      },
      "source": [
        "# Normalize output by (x-min)/(max-min). Fit to train data, and transform val and test using train metrics to prevent leakage\n",
        "scaler = MinMaxScaler()\n",
        "\n",
        "X_train = scaler.fit_transform(X_train)\n",
        "X_val = scaler.transform(X_val)\n",
        "X_test = scaler.transform(X_test)\n",
        "\n",
        "X_train, y_train = np.array(X_train), np.array(y_train)\n",
        "X_val, y_val = np.array(X_val), np.array(y_val)\n",
        "X_test, y_test = np.array(X_test), np.array(y_test)"
      ],
      "execution_count": null,
      "outputs": []
    },
    {
      "cell_type": "markdown",
      "metadata": {
        "id": "NnI1vg6qjcHJ"
      },
      "source": [
        "Visualize data distribution in train val and test sets"
      ]
    },
    {
      "cell_type": "code",
      "metadata": {
        "id": "xCJm19i1MAVr"
      },
      "source": [
        "def get_class_distribution(obj):\n",
        "    count_dict = {\n",
        "        \"class_1\": 0,\n",
        "        \"class_2\": 0,\n",
        "        \"class_3\": 0,\n",
        "    }\n",
        "    \n",
        "    for i in obj:\n",
        "        if i == 0: \n",
        "            count_dict['class_1'] += 1\n",
        "        elif i == 1: \n",
        "            count_dict['class_2'] += 1\n",
        "        elif i == 2: \n",
        "            count_dict['class_3'] += 1              \n",
        "        else:\n",
        "            print(\"Check classes.\")\n",
        "            \n",
        "    return count_dict"
      ],
      "execution_count": null,
      "outputs": []
    },
    {
      "cell_type": "code",
      "metadata": {
        "colab": {
          "base_uri": "https://localhost:8080/",
          "height": 371
        },
        "id": "oXZab187jKpN",
        "outputId": "3347d91f-bd3b-4bc8-9418-4afa7b4c2ffb"
      },
      "source": [
        "fig, axes = plt.subplots(nrows=1, ncols=3, figsize=(25,7))\n",
        "# Train\n",
        "sns.barplot(data = pd.DataFrame.from_dict([get_class_distribution(y_train)]).melt(), x = \"variable\", y=\"value\", hue=\"variable\",  ax=axes[0]).set_title('Class Distribution in Train Set')\n",
        "# Validation\n",
        "sns.barplot(data = pd.DataFrame.from_dict([get_class_distribution(y_val)]).melt(), x = \"variable\", y=\"value\", hue=\"variable\",  ax=axes[1]).set_title('Class Distribution in Val Set')\n",
        "# Test\n",
        "sns.barplot(data = pd.DataFrame.from_dict([get_class_distribution(y_test)]).melt(), x = \"variable\", y=\"value\", hue=\"variable\",  ax=axes[2]).set_title('Class Distribution in Test Set')"
      ],
      "execution_count": null,
      "outputs": [
        {
          "output_type": "execute_result",
          "data": {
            "text/plain": [
              "Text(0.5, 1.0, 'Class Distribution in Test Set')"
            ]
          },
          "metadata": {
            "tags": []
          },
          "execution_count": 8
        },
        {
          "output_type": "display_data",
          "data": {
            "image/png": "[encoded data removed]",
            "text/plain": [
              "<Figure size 1800x504 with 3 Axes>"
            ]
          },
          "metadata": {
            "tags": [],
            "needs_background": "light"
          }
        }
      ]
    },
    {
      "cell_type": "markdown",
      "metadata": {
        "id": "hYVhBNMNkWbR"
      },
      "source": [
        "Now to create iterable from dataset, create model, send to GPU for training"
      ]
    },
    {
      "cell_type": "code",
      "metadata": {
        "id": "0WdHUrdDkVPV"
      },
      "source": [
        "#  inherits from Dataset superclass, but adds functionality of receiving X, Y data and finding couple extra things\n",
        "\n",
        "class ClassifierDataset(Dataset):\n",
        "    \n",
        "    def __init__(self, X_data, y_data):\n",
        "        self.X_data = X_data\n",
        "        self.y_data = y_data\n",
        "        \n",
        "    def __getitem__(self, index):\n",
        "        return self.X_data[index], self.y_data[index]\n",
        "        \n",
        "    def __len__ (self):\n",
        "        return len(self.X_data)\n",
        "\n",
        "\n",
        "train_dataset = ClassifierDataset(torch.from_numpy(X_train).float(), torch.from_numpy(y_train).long())\n",
        "val_dataset = ClassifierDataset(torch.from_numpy(X_val).float(), torch.from_numpy(y_val).long())\n",
        "test_dataset = ClassifierDataset(torch.from_numpy(X_test).float(), torch.from_numpy(y_test).long())"
      ],
      "execution_count": null,
      "outputs": []
    },
    {
      "cell_type": "code",
      "metadata": {
        "colab": {
          "base_uri": "https://localhost:8080/"
        },
        "id": "qv5qaDQ7lT6S",
        "outputId": "1ca89565-e4b6-4ffd-9496-0f7c6e275179"
      },
      "source": [
        "# classes are not identical in distribution, so use weighted rndom sampler, first get labels from train iterable\n",
        "target_list = []\n",
        "for _, t in train_dataset:\n",
        "    target_list.append(t)\n",
        "    \n",
        "target_list = torch.tensor(target_list)\n",
        "target_list = target_list[torch.randperm(len(target_list))]\n",
        "\n",
        "# get counts of each class and divide to get weights of each class\n",
        "class_count = [i for i in get_class_distribution(y_train).values()]\n",
        "class_weights = 1./torch.tensor(class_count, dtype=torch.float) \n",
        "print(class_weights)\n",
        "\n",
        "# create list with weights in for target list vals now\n",
        "class_weights_all = class_weights[target_list]\n"
      ],
      "execution_count": null,
      "outputs": [
        {
          "output_type": "stream",
          "text": [
            "tensor([0.0625, 0.0667, 0.0526])\n"
          ],
          "name": "stdout"
        }
      ]
    },
    {
      "cell_type": "code",
      "metadata": {
        "id": "2eJWkbzUnpWJ"
      },
      "source": [
        "# instantiate Weighted random sampler to deal with disproportionate dist of classes (not that disproportionate), use weights list, number data points (70)\n",
        "weighted_sampler = WeightedRandomSampler(\n",
        "    weights=class_weights_all,\n",
        "    num_samples=len(class_weights_all),\n",
        "    replacement=True\n",
        ")"
      ],
      "execution_count": null,
      "outputs": []
    },
    {
      "cell_type": "markdown",
      "metadata": {
        "id": "HXyHU85mn_2V"
      },
      "source": [
        "Set up model and parameters"
      ]
    },
    {
      "cell_type": "code",
      "metadata": {
        "id": "k1RY9Zm4oCtU"
      },
      "source": [
        "EPOCHS = 5\n",
        "BATCH_SIZE = 8\n",
        "LEARNING_RATE = 0.0001\n",
        "NUM_FEATURES = x.shape[1]\n",
        "NUM_CLASSES = 3"
      ],
      "execution_count": null,
      "outputs": []
    },
    {
      "cell_type": "code",
      "metadata": {
        "id": "PwVBock8oxpo"
      },
      "source": [
        "# remember, we do not use shuffle=TRUE in this case since we use a sampler, the two cannot be used at the same time\n",
        "train_loader = DataLoader(dataset=train_dataset,\n",
        "                          batch_size=BATCH_SIZE,\n",
        "                          sampler=weighted_sampler\n",
        ")\n",
        "val_loader = DataLoader(dataset=val_dataset, batch_size=1)\n",
        "test_loader = DataLoader(dataset=test_dataset, batch_size=1)"
      ],
      "execution_count": null,
      "outputs": []
    },
    {
      "cell_type": "code",
      "metadata": {
        "id": "cDjHYYwMpZCQ"
      },
      "source": [
        "class MulticlassClassification(nn.Module):\n",
        "    def __init__(self, num_feature, num_class):\n",
        "        super(MulticlassClassification, self).__init__()\n",
        "        \n",
        "        self.layer_1 = nn.Linear(num_feature, 512)\n",
        "        self.layer_2 = nn.Linear(512, 128)\n",
        "        self.layer_3 = nn.Linear(128, 64)\n",
        "        self.layer_out = nn.Linear(64, num_class) \n",
        "        \n",
        "        self.relu = nn.ReLU()\n",
        "        self.dropout = nn.Dropout(p=0.2)\n",
        "        self.batchnorm1 = nn.BatchNorm1d(512)\n",
        "        self.batchnorm2 = nn.BatchNorm1d(128)\n",
        "        self.batchnorm3 = nn.BatchNorm1d(64)\n",
        "        \n",
        "    def forward(self, x):\n",
        "        x = self.layer_1(x)\n",
        "        x = self.batchnorm1(x)\n",
        "        x = self.relu(x)\n",
        "        \n",
        "        x = self.layer_2(x)\n",
        "        x = self.batchnorm2(x)\n",
        "        x = self.relu(x)\n",
        "        x = self.dropout(x)\n",
        "        \n",
        "        x = self.layer_3(x)\n",
        "        x = self.batchnorm3(x)\n",
        "        x = self.relu(x)\n",
        "        x = self.dropout(x)\n",
        "        \n",
        "        x = self.layer_out(x)\n",
        "        \n",
        "        return x"
      ],
      "execution_count": null,
      "outputs": []
    },
    {
      "cell_type": "code",
      "metadata": {
        "colab": {
          "base_uri": "https://localhost:8080/"
        },
        "id": "K2uGC0eqtFqi",
        "outputId": "7cd0e37b-9841-47d7-90f6-887f7953cdac"
      },
      "source": [
        "# Pytorch is more low level than tensorflow in that you must explicitly create an object of GPU, check activity, and send relevant things to it for training\n",
        "device = torch.device(\"cuda:0\" if torch.cuda.is_available() else \"cpu\")\n",
        "print(device)"
      ],
      "execution_count": null,
      "outputs": [
        {
          "output_type": "stream",
          "text": [
            "cuda:0\n"
          ],
          "name": "stdout"
        }
      ]
    },
    {
      "cell_type": "code",
      "metadata": {
        "colab": {
          "base_uri": "https://localhost:8080/"
        },
        "id": "jKVBhBFWph8T",
        "outputId": "e17d845a-19fc-4dbb-c540-e3a972384af0"
      },
      "source": [
        "model = MulticlassClassification(num_feature = NUM_FEATURES, num_class=NUM_CLASSES)\n",
        "model.to(device)\n",
        "\n",
        "criterion = nn.CrossEntropyLoss(weight=class_weights.to(device))\n",
        "optimizer = optim.Adam(model.parameters(), lr=LEARNING_RATE)\n",
        "print(model)"
      ],
      "execution_count": null,
      "outputs": [
        {
          "output_type": "stream",
          "text": [
            "MulticlassClassification(\n",
            "  (layer_1): Linear(in_features=3648, out_features=512, bias=True)\n",
            "  (layer_2): Linear(in_features=512, out_features=128, bias=True)\n",
            "  (layer_3): Linear(in_features=128, out_features=64, bias=True)\n",
            "  (layer_out): Linear(in_features=64, out_features=3, bias=True)\n",
            "  (relu): ReLU()\n",
            "  (dropout): Dropout(p=0.2, inplace=False)\n",
            "  (batchnorm1): BatchNorm1d(512, eps=1e-05, momentum=0.1, affine=True, track_running_stats=True)\n",
            "  (batchnorm2): BatchNorm1d(128, eps=1e-05, momentum=0.1, affine=True, track_running_stats=True)\n",
            "  (batchnorm3): BatchNorm1d(64, eps=1e-05, momentum=0.1, affine=True, track_running_stats=True)\n",
            ")\n"
          ],
          "name": "stdout"
        }
      ]
    },
    {
      "cell_type": "markdown",
      "metadata": {
        "id": "dbn-EeE1pt6P"
      },
      "source": [
        "Now Train, but for this case, dont use huge batch sizes since data is small, don't use huge epochs since this should be pretty simple and overfitting could happen. Potentially leave out a few Batch Normas, since we have small data, but if using, you can increase LR."
      ]
    },
    {
      "cell_type": "code",
      "metadata": {
        "id": "JgdMyRQyp9ID"
      },
      "source": [
        "# compute accuracy, send y_pred from model into a log_softmax, which floors or celings to nearest prediction, chooses one with best prob\n",
        "def multi_acc(y_pred, y_test):\n",
        "    y_pred_softmax = torch.log_softmax(y_pred, dim = 1)\n",
        "    _, y_pred_tags = torch.max(y_pred_softmax, dim = 1)    \n",
        "    \n",
        "    correct_pred = (y_pred_tags == y_test).float()\n",
        "    acc = correct_pred.sum() / len(correct_pred)\n",
        "    \n",
        "    acc = torch.round(acc * 100)\n",
        "    \n",
        "    return acc"
      ],
      "execution_count": null,
      "outputs": []
    },
    {
      "cell_type": "code",
      "metadata": {
        "id": "jQ9hSZ2IqbT1"
      },
      "source": [
        "accuracy_stats = {\n",
        "    'train': [],\n",
        "    \"val\": []\n",
        "}\n",
        "loss_stats = {\n",
        "    'train': [],\n",
        "    \"val\": []\n",
        "}"
      ],
      "execution_count": null,
      "outputs": []
    },
    {
      "cell_type": "code",
      "metadata": {
        "colab": {
          "base_uri": "https://localhost:8080/"
        },
        "id": "bkuR6pAGqoYL",
        "outputId": "3e3732a4-c90e-416b-8bc2-55dcd9d14049"
      },
      "source": [
        "print(\"Begin training.\")\n",
        "for e in range(1, EPOCHS+1):\n",
        "    \n",
        "    # TRAINING\n",
        "    train_epoch_loss = 0\n",
        "    train_epoch_acc = 0\n",
        "    model.train()\n",
        "    for X_train_batch, y_train_batch in train_loader:\n",
        "        X_train_batch, y_train_batch = X_train_batch.to(device), y_train_batch.to(device)\n",
        "        optimizer.zero_grad()\n",
        "        \n",
        "        y_train_pred = model(X_train_batch)\n",
        "        \n",
        "        train_loss = criterion(y_train_pred, y_train_batch)\n",
        "        train_acc = multi_acc(y_train_pred, y_train_batch)\n",
        "        \n",
        "        train_loss.backward()\n",
        "        optimizer.step()\n",
        "        \n",
        "        train_epoch_loss += train_loss.item()\n",
        "        train_epoch_acc += train_acc.item()\n",
        "        \n",
        "        \n",
        "    # VALIDATION    \n",
        "    with torch.no_grad():\n",
        "        \n",
        "        val_epoch_loss = 0\n",
        "        val_epoch_acc = 0\n",
        "        \n",
        "        model.eval()\n",
        "        for X_val_batch, y_val_batch in val_loader:\n",
        "            X_val_batch, y_val_batch = X_val_batch.to(device), y_val_batch.to(device)\n",
        "            \n",
        "            y_val_pred = model(X_val_batch)\n",
        "                        \n",
        "            val_loss = criterion(y_val_pred, y_val_batch)\n",
        "            val_acc = multi_acc(y_val_pred, y_val_batch)\n",
        "            \n",
        "            val_epoch_loss += val_loss.item()\n",
        "            val_epoch_acc += val_acc.item()\n",
        "    loss_stats['train'].append(train_epoch_loss/len(train_loader))\n",
        "    loss_stats['val'].append(val_epoch_loss/len(val_loader))\n",
        "    accuracy_stats['train'].append(train_epoch_acc/len(train_loader))\n",
        "    accuracy_stats['val'].append(val_epoch_acc/len(val_loader))\n",
        "                              \n",
        "    \n",
        "    print(f'Epoch {e+0:03}: | Train Loss: {train_epoch_loss/len(train_loader):.5f} | Val Loss: {val_epoch_loss/len(val_loader):.5f} | Train Acc: {train_epoch_acc/len(train_loader):.3f}| Val Acc: {val_epoch_acc/len(val_loader):.3f}')"
      ],
      "execution_count": null,
      "outputs": [
        {
          "output_type": "stream",
          "text": [
            "Begin training.\n",
            "Epoch 001: | Train Loss: 0.85368 | Val Loss: 1.02643 | Train Acc: 66.143| Val Acc: 83.333\n",
            "Epoch 002: | Train Loss: 0.56924 | Val Loss: 0.89117 | Train Acc: 94.714| Val Acc: 100.000\n",
            "Epoch 003: | Train Loss: 0.53014 | Val Loss: 0.73065 | Train Acc: 96.571| Val Acc: 100.000\n",
            "Epoch 004: | Train Loss: 0.49819 | Val Loss: 0.54025 | Train Acc: 91.143| Val Acc: 100.000\n",
            "Epoch 005: | Train Loss: 0.42641 | Val Loss: 0.48049 | Train Acc: 98.286| Val Acc: 100.000\n"
          ],
          "name": "stdout"
        }
      ]
    },
    {
      "cell_type": "code",
      "metadata": {
        "colab": {
          "base_uri": "https://localhost:8080/",
          "height": 451
        },
        "id": "ET_sj6bJrZe3",
        "outputId": "ff4e1bba-2f2a-4012-a432-39203995d4c5"
      },
      "source": [
        "# Create dataframes\n",
        "train_val_acc_df = pd.DataFrame.from_dict(accuracy_stats).reset_index().melt(id_vars=['index']).rename(columns={\"index\":\"epochs\"})\n",
        "train_val_loss_df = pd.DataFrame.from_dict(loss_stats).reset_index().melt(id_vars=['index']).rename(columns={\"index\":\"epochs\"})\n",
        "# Plot the dataframes\n",
        "fig, axes = plt.subplots(nrows=1, ncols=2, figsize=(20,7))\n",
        "sns.lineplot(data=train_val_acc_df, x = \"epochs\", y=\"value\", hue=\"variable\",  ax=axes[0]).set_title('Train-Val Accuracy/Epoch')\n",
        "sns.lineplot(data=train_val_loss_df, x = \"epochs\", y=\"value\", hue=\"variable\", ax=axes[1]).set_title('Train-Val Loss/Epoch')\n"
      ],
      "execution_count": null,
      "outputs": [
        {
          "output_type": "execute_result",
          "data": {
            "text/plain": [
              "Text(0.5, 1.0, 'Train-Val Loss/Epoch')"
            ]
          },
          "metadata": {
            "tags": []
          },
          "execution_count": 45
        },
        {
          "output_type": "display_data",
          "data": {
            "image/png": "[encoded data removed]",
            "text/plain": [
              "<Figure size 1440x504 with 2 Axes>"
            ]
          },
          "metadata": {
            "tags": [],
            "needs_background": "light"
          }
        }
      ]
    },
    {
      "cell_type": "markdown",
      "metadata": {
        "id": "nh_ykP3orxSM"
      },
      "source": [
        "Test the model"
      ]
    },
    {
      "cell_type": "code",
      "metadata": {
        "id": "EbMt7ia3tMoY"
      },
      "source": [
        "y_pred_list = []\n",
        "with torch.no_grad():\n",
        "    model.eval()\n",
        "    for X_batch, _ in test_loader:\n",
        "        X_batch = X_batch.to(device)\n",
        "        y_test_pred = model(X_batch)\n",
        "        _, y_pred_tags = torch.max(y_test_pred, dim = 1)\n",
        "        y_pred_list.append(y_pred_tags.cpu().numpy())\n",
        "y_pred_list = [a.squeeze().tolist() for a in y_pred_list]"
      ],
      "execution_count": null,
      "outputs": []
    },
    {
      "cell_type": "code",
      "metadata": {
        "colab": {
          "base_uri": "https://localhost:8080/",
          "height": 445
        },
        "id": "yghsjlS8trox",
        "outputId": "b300a731-75ae-4b96-c18e-1e0b1f660363"
      },
      "source": [
        "confusion_matrix_df = pd.DataFrame(confusion_matrix(y_test, y_pred_list))\n",
        "\n",
        "sns.heatmap(confusion_matrix_df, annot=True)\n",
        "\n",
        "print(classification_report(y_test, y_pred_list))"
      ],
      "execution_count": null,
      "outputs": [
        {
          "output_type": "stream",
          "text": [
            "              precision    recall  f1-score   support\n",
            "\n",
            "         0.0       1.00      1.00      1.00         5\n",
            "         1.0       1.00      1.00      1.00         4\n",
            "         2.0       1.00      1.00      1.00         5\n",
            "\n",
            "    accuracy                           1.00        14\n",
            "   macro avg       1.00      1.00      1.00        14\n",
            "weighted avg       1.00      1.00      1.00        14\n",
            "\n"
          ],
          "name": "stdout"
        },
        {
          "output_type": "display_data",
          "data": {
            "image/png": "[encoded data removed]",
            "text/plain": [
              "<Figure size 432x288 with 2 Axes>"
            ]
          },
          "metadata": {
            "tags": [],
            "needs_background": "light"
          }
        }
      ]
    }
  ]
}